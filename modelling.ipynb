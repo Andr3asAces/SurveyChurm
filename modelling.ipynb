{
 "cells": [
  {
   "cell_type": "markdown",
   "id": "5c15c6c3",
   "metadata": {},
   "source": [
    "<h1><center> Active Survey Panel - Churn prediction<h1/><center/>"
   ]
  },
  {
   "attachments": {},
   "cell_type": "markdown",
   "id": "f49fe08f",
   "metadata": {},
   "source": [
    "**Go through to the end of the workbook, play around with the models, create your own and sent me your predictions. I will grade you based on recall score!** 😀"
   ]
  },
  {
   "attachments": {},
   "cell_type": "markdown",
   "id": "20b7dac1",
   "metadata": {},
   "source": [
    "The dataset I provided is a subset of an active survey panel. \n",
    "\n",
    "Collected from 3 data sources a customer management database a survey management database and an email tracker software tool.\n",
    "\n",
    "The data has been preprocessed and cleaned. Some features have been removed on purpose and some feature engineering has been performed already.\n",
    "\n",
    "The goal it to predict whether a survey participant is likely to unsubscribe.\n",
    "\n",
    "\n",
    "- RowIndex            = Each row represents a survey participant aka contact of an account.\n",
    "- Churn               = 0 for Active 1 for Unsub \n",
    "- Surveys - Paused On = 0 receiving surveys 1 not receiving \n",
    "- Survey Tag          = Survey type\n",
    "\n",
    "Account information the participant belongs to. Each Account is a paid customer to the survey business.\n",
    "\n",
    "- Region              = uk region\n",
    "- Account Type        = type of the account member, target or stakeholder\n",
    "- Account Value       = value of the account this year \n",
    "\n",
    "Emails tracked per participant.\n",
    "\n",
    "- Clicks_sum          = total number of clicks\n",
    "- Deliveries_sum      = total number of emails\n",
    "- Opens_sum           = total number of opening the email\n",
    "\n",
    "\n",
    "- Time since response = How many days past since last response.    "
   ]
  },
  {
   "cell_type": "code",
   "execution_count": 1,
   "id": "0cdbb9e4",
   "metadata": {},
   "outputs": [],
   "source": [
    "## Import packages here\n",
    "import pandas as pd\n",
    "import numpy as np \n",
    "import openpyxl\n",
    "import imblearn\n",
    "from matplotlib.pyplot import figure\n",
    "from sklearn.utils import shuffle\n",
    "from sklearn.preprocessing import OneHotEncoder, LabelEncoder\n",
    "from sklearn.impute import SimpleImputer, KNNImputer\n",
    "from sklearn.model_selection import train_test_split, learning_curve\n",
    "from sklearn.linear_model import LogisticRegression\n",
    "from sklearn.tree import DecisionTreeClassifier\n",
    "from sklearn.metrics import classification_report, accuracy_score, precision_recall_fscore_support, confusion_matrix, precision_score, recall_score, roc_auc_score\n",
    "from sklearn.ensemble import RandomForestClassifier, GradientBoostingClassifier\n",
    "\n",
    "from imblearn.under_sampling import RandomUnderSampler\n",
    "from sklearn import metrics\n",
    "from sklearn.inspection import permutation_importance\n",
    "import matplotlib.pyplot as plt\n",
    "import seaborn as sns\n",
    "from sklearn.preprocessing import MinMaxScaler\n",
    "from sklearn.model_selection import GridSearchCV\n",
    "from collections import Counter"
   ]
  },
  {
   "cell_type": "markdown",
   "id": "17729188",
   "metadata": {},
   "source": [
    "Loading the dataset"
   ]
  },
  {
   "cell_type": "code",
   "execution_count": 2,
   "id": "00f2ffdf",
   "metadata": {},
   "outputs": [],
   "source": [
    "data = pd.read_csv('train_set.csv')"
   ]
  },
  {
   "cell_type": "code",
   "execution_count": 3,
   "id": "b2ea5516",
   "metadata": {},
   "outputs": [],
   "source": [
    "target   = 'Churn'\n",
    "features = list(data.columns.drop(target))"
   ]
  },
  {
   "cell_type": "code",
   "execution_count": 4,
   "id": "697ce1c1",
   "metadata": {},
   "outputs": [
    {
     "data": {
      "text/plain": [
       "Target         4894\n",
       "Member          758\n",
       "Stakeholder       4\n",
       "Name: Account Type, dtype: int64"
      ]
     },
     "execution_count": 4,
     "metadata": {},
     "output_type": "execute_result"
    }
   ],
   "source": [
    "data['Account Type'].value_counts()"
   ]
  },
  {
   "cell_type": "code",
   "execution_count": 5,
   "id": "d2f94714",
   "metadata": {},
   "outputs": [
    {
     "data": {
      "text/plain": [
       "Surveys - Paused On      int64\n",
       "Survey Tag              object\n",
       "Region                  object\n",
       "Account Type            object\n",
       "Clicks_sum               int64\n",
       "Deliveries_sum           int64\n",
       "Opens_sum                int64\n",
       "Time since response      int64\n",
       "Account logValue       float64\n",
       "Churn                    int64\n",
       "dtype: object"
      ]
     },
     "execution_count": 5,
     "metadata": {},
     "output_type": "execute_result"
    }
   ],
   "source": [
    "data.dtypes"
   ]
  },
  {
   "cell_type": "code",
   "execution_count": 6,
   "id": "72a7a2e5",
   "metadata": {},
   "outputs": [
    {
     "data": {
      "text/plain": [
       "(5656, 10)"
      ]
     },
     "execution_count": 6,
     "metadata": {},
     "output_type": "execute_result"
    }
   ],
   "source": [
    "data.shape"
   ]
  },
  {
   "cell_type": "code",
   "execution_count": 7,
   "id": "4bf67f45",
   "metadata": {},
   "outputs": [
    {
     "data": {
      "text/html": [
       "<div>\n",
       "<style scoped>\n",
       "    .dataframe tbody tr th:only-of-type {\n",
       "        vertical-align: middle;\n",
       "    }\n",
       "\n",
       "    .dataframe tbody tr th {\n",
       "        vertical-align: top;\n",
       "    }\n",
       "\n",
       "    .dataframe thead th {\n",
       "        text-align: right;\n",
       "    }\n",
       "</style>\n",
       "<table border=\"1\" class=\"dataframe\">\n",
       "  <thead>\n",
       "    <tr style=\"text-align: right;\">\n",
       "      <th></th>\n",
       "      <th>Surveys - Paused On</th>\n",
       "      <th>Survey Tag</th>\n",
       "      <th>Region</th>\n",
       "      <th>Account Type</th>\n",
       "      <th>Clicks_sum</th>\n",
       "      <th>Deliveries_sum</th>\n",
       "      <th>Opens_sum</th>\n",
       "      <th>Time since response</th>\n",
       "      <th>Account logValue</th>\n",
       "      <th>Churn</th>\n",
       "    </tr>\n",
       "  </thead>\n",
       "  <tbody>\n",
       "    <tr>\n",
       "      <th>0</th>\n",
       "      <td>0</td>\n",
       "      <td>SSS</td>\n",
       "      <td>London</td>\n",
       "      <td>Target</td>\n",
       "      <td>0</td>\n",
       "      <td>0</td>\n",
       "      <td>0</td>\n",
       "      <td>1580</td>\n",
       "      <td>0.0</td>\n",
       "      <td>0</td>\n",
       "    </tr>\n",
       "    <tr>\n",
       "      <th>1</th>\n",
       "      <td>1</td>\n",
       "      <td>DTS</td>\n",
       "      <td>East Midlands</td>\n",
       "      <td>Target</td>\n",
       "      <td>0</td>\n",
       "      <td>0</td>\n",
       "      <td>0</td>\n",
       "      <td>1580</td>\n",
       "      <td>0.0</td>\n",
       "      <td>0</td>\n",
       "    </tr>\n",
       "    <tr>\n",
       "      <th>2</th>\n",
       "      <td>1</td>\n",
       "      <td>SSS</td>\n",
       "      <td>Thames Valley</td>\n",
       "      <td>Target</td>\n",
       "      <td>0</td>\n",
       "      <td>0</td>\n",
       "      <td>0</td>\n",
       "      <td>1580</td>\n",
       "      <td>0.0</td>\n",
       "      <td>0</td>\n",
       "    </tr>\n",
       "    <tr>\n",
       "      <th>3</th>\n",
       "      <td>1</td>\n",
       "      <td>ITS</td>\n",
       "      <td>Yorkshire &amp; the Humber</td>\n",
       "      <td>Target</td>\n",
       "      <td>0</td>\n",
       "      <td>0</td>\n",
       "      <td>0</td>\n",
       "      <td>1580</td>\n",
       "      <td>0.0</td>\n",
       "      <td>0</td>\n",
       "    </tr>\n",
       "    <tr>\n",
       "      <th>4</th>\n",
       "      <td>1</td>\n",
       "      <td>SSS</td>\n",
       "      <td>London</td>\n",
       "      <td>Target</td>\n",
       "      <td>0</td>\n",
       "      <td>0</td>\n",
       "      <td>0</td>\n",
       "      <td>1580</td>\n",
       "      <td>0.0</td>\n",
       "      <td>0</td>\n",
       "    </tr>\n",
       "  </tbody>\n",
       "</table>\n",
       "</div>"
      ],
      "text/plain": [
       "   Surveys - Paused On Survey Tag                  Region Account Type  \\\n",
       "0                    0        SSS                  London       Target   \n",
       "1                    1        DTS           East Midlands       Target   \n",
       "2                    1        SSS           Thames Valley       Target   \n",
       "3                    1        ITS  Yorkshire & the Humber       Target   \n",
       "4                    1        SSS                  London       Target   \n",
       "\n",
       "   Clicks_sum  Deliveries_sum  Opens_sum  Time since response  \\\n",
       "0           0               0          0                 1580   \n",
       "1           0               0          0                 1580   \n",
       "2           0               0          0                 1580   \n",
       "3           0               0          0                 1580   \n",
       "4           0               0          0                 1580   \n",
       "\n",
       "   Account logValue  Churn  \n",
       "0               0.0      0  \n",
       "1               0.0      0  \n",
       "2               0.0      0  \n",
       "3               0.0      0  \n",
       "4               0.0      0  "
      ]
     },
     "execution_count": 7,
     "metadata": {},
     "output_type": "execute_result"
    }
   ],
   "source": [
    "data.head()"
   ]
  },
  {
   "cell_type": "code",
   "execution_count": 8,
   "id": "4c38489d",
   "metadata": {},
   "outputs": [
    {
     "data": {
      "text/plain": [
       "Index(['Surveys - Paused On', 'Survey Tag', 'Region', 'Account Type',\n",
       "       'Clicks_sum', 'Deliveries_sum', 'Opens_sum', 'Time since response',\n",
       "       'Account logValue', 'Churn'],\n",
       "      dtype='object')"
      ]
     },
     "execution_count": 8,
     "metadata": {},
     "output_type": "execute_result"
    }
   ],
   "source": [
    "data.columns"
   ]
  },
  {
   "cell_type": "markdown",
   "id": "df3f4231",
   "metadata": {},
   "source": [
    "## Visualise the target variable "
   ]
  },
  {
   "cell_type": "code",
   "execution_count": 9,
   "id": "1d827f8d",
   "metadata": {},
   "outputs": [
    {
     "data": {
      "text/plain": [
       "<AxesSubplot: >"
      ]
     },
     "execution_count": 9,
     "metadata": {},
     "output_type": "execute_result"
    },
    {
     "data": {
      "image/png": "[encoded data removed]",
      "text/plain": [
       "<Figure size 432x288 with 1 Axes>"
      ]
     },
     "metadata": {
      "needs_background": "light"
     },
     "output_type": "display_data"
    }
   ],
   "source": [
    "data['Churn'].value_counts().plot.bar(color=['green', 'red'])"
   ]
  },
  {
   "cell_type": "code",
   "execution_count": 10,
   "id": "caa06c1b",
   "metadata": {},
   "outputs": [
    {
     "data": {
      "text/plain": [
       "0    5618\n",
       "1      38\n",
       "Name: Churn, dtype: int64"
      ]
     },
     "execution_count": 10,
     "metadata": {},
     "output_type": "execute_result"
    }
   ],
   "source": [
    "data['Churn'].value_counts()"
   ]
  },
  {
   "cell_type": "markdown",
   "id": "ec424976",
   "metadata": {},
   "source": [
    "We are dealing with unbalanced classes. "
   ]
  },
  {
   "cell_type": "markdown",
   "id": "dee1b18f",
   "metadata": {},
   "source": [
    "## Scaling - OHC"
   ]
  },
  {
   "cell_type": "code",
   "execution_count": 11,
   "id": "1228206c",
   "metadata": {},
   "outputs": [],
   "source": [
    "ohc_cols = data.dtypes == 'object'\n",
    "num_cols = (data.dtypes == 'float64') | (data.dtypes.apply(str).str.contains('int'))"
   ]
  },
  {
   "cell_type": "code",
   "execution_count": 12,
   "id": "b5488be0",
   "metadata": {},
   "outputs": [],
   "source": [
    "# Select only object (categorical) columns\n",
    "categorical_columns = data.columns[ohc_cols]\n",
    "\n",
    "# Create one-hot encoded columns and concatenate with the original DataFrame\n",
    "data = pd.concat([data, pd.get_dummies(data.loc[:,categorical_columns], prefix=categorical_columns)], axis=1)\n",
    "\n",
    "# Drop original categorical columns\n",
    "data.drop(categorical_columns, axis=1, inplace=True)"
   ]
  },
  {
   "cell_type": "markdown",
   "id": "0003fdfd",
   "metadata": {},
   "source": [
    "## Train test split"
   ]
  },
  {
   "cell_type": "code",
   "execution_count": 13,
   "id": "bb9faeac",
   "metadata": {},
   "outputs": [],
   "source": [
    "X = data[list(data.columns.drop(target))]\n",
    "y = data[target]\n",
    "X_train, X_test, y_train, y_test = train_test_split(X, y, test_size=0.2, stratify=y, random_state=1)"
   ]
  },
  {
   "cell_type": "code",
   "execution_count": 14,
   "id": "cb374b19",
   "metadata": {},
   "outputs": [],
   "source": [
    "from sklearn.preprocessing import MinMaxScaler\n",
    "\n",
    "def transform(x):\n",
    "    # Copy to avoid warnings & messing up global variables\n",
    "    x = x.copy()\n",
    "    scaler         = MinMaxScaler()\n",
    "    x_scaled       = scaler.fit_transform(x)\n",
    "    \n",
    "    return x_scaled"
   ]
  },
  {
   "cell_type": "code",
   "execution_count": 15,
   "id": "33f4599a",
   "metadata": {},
   "outputs": [],
   "source": [
    "def knn_imputer(x_scaled):\n",
    "    # KNN inputer for NA's\n",
    "    imputer        = KNNImputer(n_neighbors=10)\n",
    "\n",
    "    # Fit the imputer on your dataset and transform it to fill missing values\n",
    "    x_scaled_imputed = imputer.fit_transform(x_scaled)\n",
    "\n",
    "    return x_scaled_imputed"
   ]
  },
  {
   "cell_type": "code",
   "execution_count": 16,
   "id": "1256e25a",
   "metadata": {},
   "outputs": [],
   "source": [
    "X_train_scaled         = transform(X_train)\n",
    "X_train_scaled_imputed = knn_imputer(X_train_scaled)"
   ]
  },
  {
   "cell_type": "code",
   "execution_count": 17,
   "id": "fce10fb2",
   "metadata": {},
   "outputs": [],
   "source": [
    "X_test_scaled          = transform(X_test)\n",
    "X_test_scaled_imputed  = knn_imputer(X_test_scaled)"
   ]
  },
  {
   "cell_type": "code",
   "execution_count": 18,
   "id": "ffaeb8ab",
   "metadata": {},
   "outputs": [
    {
     "data": {
      "text/plain": [
       "False"
      ]
     },
     "execution_count": 18,
     "metadata": {},
     "output_type": "execute_result"
    }
   ],
   "source": [
    "np.isnan(X_train_scaled_imputed).any()"
   ]
  },
  {
   "cell_type": "code",
   "execution_count": 19,
   "id": "62d9c95a",
   "metadata": {},
   "outputs": [
    {
     "data": {
      "text/plain": [
       "False"
      ]
     },
     "execution_count": 19,
     "metadata": {},
     "output_type": "execute_result"
    }
   ],
   "source": [
    "np.isnan(X_test_scaled_imputed).any()"
   ]
  },
  {
   "cell_type": "code",
   "execution_count": 20,
   "id": "8a672597",
   "metadata": {},
   "outputs": [],
   "source": [
    "X_test = X_test_scaled_imputed"
   ]
  },
  {
   "cell_type": "markdown",
   "id": "b03f2c99",
   "metadata": {},
   "source": [
    "In the surveys space companies are fighting to retain even 1 response. Losing even a small number of respondents can make a big difference in the long-term.\n",
    "\n",
    "We need to make sure we are able to identify those that are going to unsubscribe based on the number of emails they are receiving as well as their commitment to the business."
   ]
  },
  {
   "cell_type": "markdown",
   "id": "767aad40",
   "metadata": {},
   "source": [
    "Starting by evaluating the methods for dealing with unbalanced classes"
   ]
  },
  {
   "cell_type": "code",
   "execution_count": 21,
   "id": "64547072",
   "metadata": {},
   "outputs": [
    {
     "data": {
      "text/plain": [
       "0    5618\n",
       "1      38\n",
       "Name: Churn, dtype: int64"
      ]
     },
     "execution_count": 21,
     "metadata": {},
     "output_type": "execute_result"
    }
   ],
   "source": [
    "data['Churn'].value_counts()"
   ]
  },
  {
   "cell_type": "code",
   "execution_count": 22,
   "id": "4788425f",
   "metadata": {},
   "outputs": [],
   "source": [
    "X_train = X_train_scaled_imputed "
   ]
  },
  {
   "cell_type": "markdown",
   "id": "2420672a",
   "metadata": {},
   "source": [
    "Oversampling the minority class "
   ]
  },
  {
   "cell_type": "code",
   "execution_count": 23,
   "id": "8d901411",
   "metadata": {},
   "outputs": [],
   "source": [
    "from imblearn.over_sampling import RandomOverSampler, SMOTE\n",
    "smote = SMOTE()\n",
    "X_train_smote, y_train_smote = smote.fit_resample(X_train, y_train)"
   ]
  },
  {
   "cell_type": "markdown",
   "id": "4db089de",
   "metadata": {},
   "source": [
    "Applying weight to the minority class"
   ]
  },
  {
   "cell_type": "code",
   "execution_count": 24,
   "id": "01b0deb8",
   "metadata": {},
   "outputs": [],
   "source": [
    "negative_count = np.sum(y_train == 0)\n",
    "positive_count = np.sum(y_train == 1)\n",
    "scale_pos_weight = negative_count / positive_count"
   ]
  },
  {
   "cell_type": "markdown",
   "id": "7db763ef",
   "metadata": {},
   "source": [
    "Combination of SMORE and undersampling"
   ]
  },
  {
   "cell_type": "markdown",
   "id": "9524e557",
   "metadata": {},
   "source": [
    "Minority class data is too small. We are going avoid undersampling. Instead we attempt a middle ground between the original imbalanced dataset and the fully balanced dataset produced by SMOTE.  We will use a combination of SMOTE and random undersampling with ENN."
   ]
  },
  {
   "cell_type": "code",
   "execution_count": 25,
   "id": "190e753c",
   "metadata": {},
   "outputs": [],
   "source": [
    "from imblearn.combine import SMOTEENN\n",
    "from imblearn.over_sampling import SMOTE\n",
    "from imblearn.under_sampling import EditedNearestNeighbours\n",
    "\n",
    "# Set the desired sampling strategy for SMOTE and ENN\n",
    "smote_sampling_strategy = 0.5         # Oversample the minority class to 50% of the majority class\n",
    "enn_sampling_strategy   = 'majority'  # Clean only the majority class using ENN\n",
    "\n",
    "# Initialize SMOTE and ENN with custom sampling strategies\n",
    "smote = SMOTE(sampling_strategy=smote_sampling_strategy)\n",
    "enn   = EditedNearestNeighbours(sampling_strategy=enn_sampling_strategy)\n",
    "\n",
    "# Apply SMOTE-ENN with custom sampling strategies\n",
    "smote_enn = SMOTEENN(smote=smote, enn=enn)\n",
    "X_train_smoteenn, y_train_smoteenn = smote_enn.fit_resample(X_train, y_train)\n"
   ]
  },
  {
   "cell_type": "code",
   "execution_count": 26,
   "id": "3a0cde3c",
   "metadata": {},
   "outputs": [
    {
     "data": {
      "text/plain": [
       "(4524, 27)"
      ]
     },
     "execution_count": 26,
     "metadata": {},
     "output_type": "execute_result"
    }
   ],
   "source": [
    "X_train.shape"
   ]
  },
  {
   "cell_type": "code",
   "execution_count": 27,
   "id": "e679d2e7",
   "metadata": {},
   "outputs": [
    {
     "data": {
      "text/plain": [
       "(6524, 27)"
      ]
     },
     "execution_count": 27,
     "metadata": {},
     "output_type": "execute_result"
    }
   ],
   "source": [
    "X_train_smoteenn.shape"
   ]
  },
  {
   "cell_type": "code",
   "execution_count": 28,
   "id": "c273459f",
   "metadata": {},
   "outputs": [
    {
     "data": {
      "text/plain": [
       "(8988, 27)"
      ]
     },
     "execution_count": 28,
     "metadata": {},
     "output_type": "execute_result"
    }
   ],
   "source": [
    "X_train_smote.shape"
   ]
  },
  {
   "cell_type": "markdown",
   "id": "49fd72fd",
   "metadata": {},
   "source": [
    "To evaluate the approaches will use a simple gradient boosting algorithm and evaluate on the test set."
   ]
  },
  {
   "cell_type": "code",
   "execution_count": 29,
   "id": "e0e74992",
   "metadata": {},
   "outputs": [
    {
     "data": {
      "text/plain": [
       "0.006631299734748011"
      ]
     },
     "execution_count": 29,
     "metadata": {},
     "output_type": "execute_result"
    }
   ],
   "source": [
    "positive_count/(negative_count +positive_count)"
   ]
  },
  {
   "cell_type": "code",
   "execution_count": 30,
   "id": "095a7fb1",
   "metadata": {},
   "outputs": [],
   "source": [
    "rs = 1\n",
    "# Grid search hyperparameters for a random forest model\n",
    "def grid_search_rf(X_train, y_train):\n",
    "    params_grid = {\n",
    "    'max_depth': [5, 10, 15, 20],\n",
    "    'n_estimators': [25, 50, 100],\n",
    "    'min_samples_split': [2, 5],\n",
    "    'class_weight': [{0:0.1, 1:0.9}, {0:0.3, 1:0.7},{0:0.04,1:0.96}]\n",
    "    }\n",
    "    rf_model    = RandomForestClassifier(random_state=rs)\n",
    "    grid_search = GridSearchCV(estimator = rf_model, \n",
    "                           param_grid = params_grid, \n",
    "                           scoring='f1',\n",
    "                           cv = 5, verbose = 1)\n",
    "    grid_search.fit(X_train, y_train)\n",
    "    best_params = grid_search.best_params_\n",
    "    return best_params"
   ]
  },
  {
   "cell_type": "markdown",
   "id": "d0013169",
   "metadata": {},
   "source": [
    "# Hyperparameter search - Random Forest bagging"
   ]
  },
  {
   "cell_type": "markdown",
   "id": "74113e2c",
   "metadata": {},
   "source": [
    "## Weighted search "
   ]
  },
  {
   "cell_type": "code",
   "execution_count": 31,
   "id": "3bea6abb",
   "metadata": {},
   "outputs": [
    {
     "name": "stdout",
     "output_type": "stream",
     "text": [
      "Fitting 5 folds for each of 72 candidates, totalling 360 fits\n"
     ]
    }
   ],
   "source": [
    "best_params_rf_weighted = grid_search_rf(X_train,y_train)"
   ]
  },
  {
   "cell_type": "markdown",
   "id": "abd75005",
   "metadata": {},
   "source": [
    "## SMOTE search"
   ]
  },
  {
   "cell_type": "code",
   "execution_count": 32,
   "id": "0cae1ca3",
   "metadata": {},
   "outputs": [
    {
     "name": "stdout",
     "output_type": "stream",
     "text": [
      "Fitting 5 folds for each of 72 candidates, totalling 360 fits\n"
     ]
    }
   ],
   "source": [
    "best_params_rf_smote =  grid_search_rf(X_train_smote,y_train_smote)"
   ]
  },
  {
   "cell_type": "markdown",
   "id": "2539f6ca",
   "metadata": {},
   "source": [
    "## SMOTE ENN search"
   ]
  },
  {
   "cell_type": "code",
   "execution_count": 33,
   "id": "ca2e6411",
   "metadata": {},
   "outputs": [
    {
     "name": "stdout",
     "output_type": "stream",
     "text": [
      "Fitting 5 folds for each of 72 candidates, totalling 360 fits\n"
     ]
    }
   ],
   "source": [
    "best_params_rf_smoteenn = grid_search_rf(X_train_smoteenn,y_train_smoteenn)"
   ]
  },
  {
   "cell_type": "code",
   "execution_count": 34,
   "id": "41b6ad9e",
   "metadata": {},
   "outputs": [],
   "source": [
    "# Random forest \n",
    "def build_rf(X_train, y_train, X_test, threshold=0.5, best_params=None):\n",
    "    \n",
    "    model = RandomForestClassifier(random_state = rs)\n",
    "    # If best parameters are provided\n",
    "    if best_params:\n",
    "        model = RandomForestClassifier(random_state = rs,\n",
    "                                   # If bootstrap sampling is used\n",
    "                                   #bootstrap = best_params['bootstrap'],\n",
    "                                   # Max depth of each tree\n",
    "                                   max_depth = best_params['max_depth'],\n",
    "                                   # Class weight parameters\n",
    "                                   class_weight=best_params['class_weight'],\n",
    "                                   # Number of trees\n",
    "                                   n_estimators=best_params['n_estimators'],\n",
    "                                   # Minimal samples to split\n",
    "                                   min_samples_split=best_params['min_samples_split'])\n",
    "    # Train the model   \n",
    "    model.fit(X_train, y_train)\n",
    "    # We are on the conservative side so\n",
    "    # If predicted probability is larger than threshold (default value is 0.5), generate a positive label\n",
    "    predicted_proba = model.predict_proba(X_test)\n",
    "    yp = (predicted_proba [:,1] >= threshold).astype('int')\n",
    "    return yp, model"
   ]
  },
  {
   "cell_type": "markdown",
   "id": "1336b891",
   "metadata": {},
   "source": [
    "# Best model fit "
   ]
  },
  {
   "cell_type": "code",
   "execution_count": 35,
   "id": "16b91a08",
   "metadata": {
    "scrolled": true
   },
   "outputs": [],
   "source": [
    "rf_preds_weight, rf_model_weight     = build_rf(X_train, y_train, X_test, best_params=best_params_rf_weighted )\n",
    "rf_preds_smote, rf_model_smote       = build_rf(X_train_smote, y_train_smote, X_test, best_params=best_params_rf_smote)\n",
    "rf_preds_smoteenn, rf_model_smoteenn = build_rf(X_train_smoteenn, y_train_smoteenn, X_test, best_params=best_params_rf_smoteenn)"
   ]
  },
  {
   "cell_type": "code",
   "execution_count": 36,
   "id": "d372f090",
   "metadata": {},
   "outputs": [],
   "source": [
    "def evaluate(yt, yp,model_type=None):\n",
    "    results_pos = {}\n",
    "    # Accuracy\n",
    "    results_pos['accuracy'] = accuracy_score(yt, yp)\n",
    "    # Precision, recall, Fscore\n",
    "    precision, recall, f_beta, _ = precision_recall_fscore_support(yt, yp, beta=5, pos_label=1, average='binary')\n",
    "    results_pos['recall'] = recall\n",
    "    # AUC\n",
    "    results_pos['auc'] = roc_auc_score(yt, yp)\n",
    "    # Precision\n",
    "    results_pos['precision'] = precision\n",
    "    # Fscore\n",
    "    results_pos['fscore'] = f_beta\n",
    "    # model type\n",
    "    results_pos['model type'] = model_type\n",
    "    return results_pos"
   ]
  },
  {
   "cell_type": "markdown",
   "id": "f7333d93",
   "metadata": {},
   "source": [
    "## Evaluate on the validation set"
   ]
  },
  {
   "cell_type": "code",
   "execution_count": 37,
   "id": "064bb231",
   "metadata": {},
   "outputs": [],
   "source": [
    "results=[]\n",
    "\n",
    "results.append(evaluate(y_test, rf_preds_weight,model_type='RF_weight'))\n",
    "results.append(evaluate(y_test, rf_preds_smote,model_type='RF_smote'))\n",
    "results.append(evaluate(y_test, rf_preds_smoteenn,model_type='RF_smoteenn'))"
   ]
  },
  {
   "cell_type": "code",
   "execution_count": 38,
   "id": "6b1fee8a",
   "metadata": {},
   "outputs": [
    {
     "data": {
      "text/html": [
       "<div>\n",
       "<style scoped>\n",
       "    .dataframe tbody tr th:only-of-type {\n",
       "        vertical-align: middle;\n",
       "    }\n",
       "\n",
       "    .dataframe tbody tr th {\n",
       "        vertical-align: top;\n",
       "    }\n",
       "\n",
       "    .dataframe thead th {\n",
       "        text-align: right;\n",
       "    }\n",
       "</style>\n",
       "<table border=\"1\" class=\"dataframe\">\n",
       "  <thead>\n",
       "    <tr style=\"text-align: right;\">\n",
       "      <th></th>\n",
       "      <th>accuracy</th>\n",
       "      <th>recall</th>\n",
       "      <th>auc</th>\n",
       "      <th>precision</th>\n",
       "      <th>fscore</th>\n",
       "      <th>model type</th>\n",
       "    </tr>\n",
       "  </thead>\n",
       "  <tbody>\n",
       "    <tr>\n",
       "      <th>0</th>\n",
       "      <td>0.992049</td>\n",
       "      <td>0.125</td>\n",
       "      <td>0.561610</td>\n",
       "      <td>0.333333</td>\n",
       "      <td>0.128079</td>\n",
       "      <td>RF_weight</td>\n",
       "    </tr>\n",
       "    <tr>\n",
       "      <th>1</th>\n",
       "      <td>0.964664</td>\n",
       "      <td>0.125</td>\n",
       "      <td>0.547820</td>\n",
       "      <td>0.029412</td>\n",
       "      <td>0.111111</td>\n",
       "      <td>RF_smote</td>\n",
       "    </tr>\n",
       "    <tr>\n",
       "      <th>2</th>\n",
       "      <td>0.941696</td>\n",
       "      <td>0.125</td>\n",
       "      <td>0.536254</td>\n",
       "      <td>0.016667</td>\n",
       "      <td>0.100000</td>\n",
       "      <td>RF_smoteenn</td>\n",
       "    </tr>\n",
       "  </tbody>\n",
       "</table>\n",
       "</div>"
      ],
      "text/plain": [
       "   accuracy  recall       auc  precision    fscore   model type\n",
       "0  0.992049   0.125  0.561610   0.333333  0.128079    RF_weight\n",
       "1  0.964664   0.125  0.547820   0.029412  0.111111     RF_smote\n",
       "2  0.941696   0.125  0.536254   0.016667  0.100000  RF_smoteenn"
      ]
     },
     "execution_count": 38,
     "metadata": {},
     "output_type": "execute_result"
    }
   ],
   "source": [
    "results = pd.DataFrame(results)\n",
    "results"
   ]
  },
  {
   "cell_type": "markdown",
   "id": "7f71f450",
   "metadata": {},
   "source": [
    "## Load test set"
   ]
  },
  {
   "cell_type": "code",
   "execution_count": 39,
   "id": "3f0e07f0",
   "metadata": {},
   "outputs": [],
   "source": [
    "X_test = pd.read_csv('test_set.csv')"
   ]
  },
  {
   "cell_type": "code",
   "execution_count": 40,
   "id": "0b908d5f",
   "metadata": {},
   "outputs": [
    {
     "data": {
      "text/html": [
       "<div>\n",
       "<style scoped>\n",
       "    .dataframe tbody tr th:only-of-type {\n",
       "        vertical-align: middle;\n",
       "    }\n",
       "\n",
       "    .dataframe tbody tr th {\n",
       "        vertical-align: top;\n",
       "    }\n",
       "\n",
       "    .dataframe thead th {\n",
       "        text-align: right;\n",
       "    }\n",
       "</style>\n",
       "<table border=\"1\" class=\"dataframe\">\n",
       "  <thead>\n",
       "    <tr style=\"text-align: right;\">\n",
       "      <th></th>\n",
       "      <th>ID</th>\n",
       "      <th>Surveys - Paused On</th>\n",
       "      <th>Survey Tag</th>\n",
       "      <th>Region</th>\n",
       "      <th>Account Type</th>\n",
       "      <th>Clicks_sum</th>\n",
       "      <th>Deliveries_sum</th>\n",
       "      <th>Opens_sum</th>\n",
       "      <th>Time since response</th>\n",
       "      <th>Account logValue</th>\n",
       "    </tr>\n",
       "  </thead>\n",
       "  <tbody>\n",
       "    <tr>\n",
       "      <th>0</th>\n",
       "      <td>1</td>\n",
       "      <td>0</td>\n",
       "      <td>DTS</td>\n",
       "      <td>East of England</td>\n",
       "      <td>Target</td>\n",
       "      <td>0</td>\n",
       "      <td>0</td>\n",
       "      <td>0</td>\n",
       "      <td>1580</td>\n",
       "      <td>0.000000</td>\n",
       "    </tr>\n",
       "    <tr>\n",
       "      <th>1</th>\n",
       "      <td>2</td>\n",
       "      <td>0</td>\n",
       "      <td>ITS</td>\n",
       "      <td>West Midlands</td>\n",
       "      <td>Target</td>\n",
       "      <td>0</td>\n",
       "      <td>0</td>\n",
       "      <td>0</td>\n",
       "      <td>1026</td>\n",
       "      <td>0.000000</td>\n",
       "    </tr>\n",
       "    <tr>\n",
       "      <th>2</th>\n",
       "      <td>3</td>\n",
       "      <td>0</td>\n",
       "      <td>SSS</td>\n",
       "      <td>South East</td>\n",
       "      <td>Target</td>\n",
       "      <td>0</td>\n",
       "      <td>0</td>\n",
       "      <td>0</td>\n",
       "      <td>83</td>\n",
       "      <td>0.000000</td>\n",
       "    </tr>\n",
       "    <tr>\n",
       "      <th>3</th>\n",
       "      <td>4</td>\n",
       "      <td>0</td>\n",
       "      <td>FSS</td>\n",
       "      <td>Wales</td>\n",
       "      <td>Member</td>\n",
       "      <td>0</td>\n",
       "      <td>0</td>\n",
       "      <td>0</td>\n",
       "      <td>1580</td>\n",
       "      <td>8.328057</td>\n",
       "    </tr>\n",
       "    <tr>\n",
       "      <th>4</th>\n",
       "      <td>5</td>\n",
       "      <td>0</td>\n",
       "      <td>FSS</td>\n",
       "      <td>London</td>\n",
       "      <td>Target</td>\n",
       "      <td>0</td>\n",
       "      <td>0</td>\n",
       "      <td>0</td>\n",
       "      <td>377</td>\n",
       "      <td>0.000000</td>\n",
       "    </tr>\n",
       "  </tbody>\n",
       "</table>\n",
       "</div>"
      ],
      "text/plain": [
       "   ID  Surveys - Paused On Survey Tag           Region Account Type  \\\n",
       "0   1                    0        DTS  East of England       Target   \n",
       "1   2                    0        ITS    West Midlands       Target   \n",
       "2   3                    0        SSS       South East       Target   \n",
       "3   4                    0        FSS            Wales       Member   \n",
       "4   5                    0        FSS           London       Target   \n",
       "\n",
       "   Clicks_sum  Deliveries_sum  Opens_sum  Time since response  \\\n",
       "0           0               0          0                 1580   \n",
       "1           0               0          0                 1026   \n",
       "2           0               0          0                   83   \n",
       "3           0               0          0                 1580   \n",
       "4           0               0          0                  377   \n",
       "\n",
       "   Account logValue  \n",
       "0          0.000000  \n",
       "1          0.000000  \n",
       "2          0.000000  \n",
       "3          8.328057  \n",
       "4          0.000000  "
      ]
     },
     "execution_count": 40,
     "metadata": {},
     "output_type": "execute_result"
    }
   ],
   "source": [
    "X_test.head()"
   ]
  },
  {
   "cell_type": "code",
   "execution_count": 41,
   "id": "4a9a8e77",
   "metadata": {},
   "outputs": [],
   "source": [
    "prediction_id = X_test['ID']"
   ]
  },
  {
   "cell_type": "code",
   "execution_count": 42,
   "id": "f160d02d",
   "metadata": {
    "scrolled": true
   },
   "outputs": [],
   "source": [
    "X_test = X_test.drop('ID',axis=1)"
   ]
  },
  {
   "cell_type": "markdown",
   "id": "8f257961",
   "metadata": {},
   "source": [
    "## Scale test set"
   ]
  },
  {
   "cell_type": "code",
   "execution_count": 43,
   "id": "b4ee49a7",
   "metadata": {},
   "outputs": [],
   "source": [
    "ohc_cols = X_test.dtypes == 'object'\n",
    "num_cols = (X_test.dtypes == 'float64') | (X_test.dtypes.apply(str).str.contains('int'))"
   ]
  },
  {
   "cell_type": "code",
   "execution_count": 44,
   "id": "05715c9b",
   "metadata": {},
   "outputs": [],
   "source": [
    "# Select only object (categorical) columns\n",
    "categorical_columns = X_test.columns[ohc_cols]\n",
    "\n",
    "# Create one-hot encoded columns and concatenate with the original DataFrame\n",
    "X_test = pd.concat([X_test, pd.get_dummies(X_test.loc[:,categorical_columns], prefix=categorical_columns)], axis=1)\n",
    "\n",
    "# Drop original categorical columns\n",
    "X_test.drop(categorical_columns, axis=1, inplace=True)"
   ]
  },
  {
   "cell_type": "code",
   "execution_count": 45,
   "id": "d2121d5b",
   "metadata": {},
   "outputs": [],
   "source": [
    "X_test_scaled         = transform(X_test)\n",
    "X_test_scaled_imputed = knn_imputer(X_test) "
   ]
  },
  {
   "cell_type": "code",
   "execution_count": 46,
   "id": "e86924de",
   "metadata": {},
   "outputs": [
    {
     "data": {
      "text/plain": [
       "array([[0., 0., 0., ..., 0., 0., 1.],\n",
       "       [0., 0., 0., ..., 0., 0., 1.],\n",
       "       [0., 0., 0., ..., 0., 0., 1.],\n",
       "       ...,\n",
       "       [1., 0., 0., ..., 0., 0., 1.],\n",
       "       [0., 0., 0., ..., 0., 0., 1.],\n",
       "       [0., 0., 0., ..., 0., 0., 1.]])"
      ]
     },
     "execution_count": 46,
     "metadata": {},
     "output_type": "execute_result"
    }
   ],
   "source": [
    "X_test_scaled_imputed"
   ]
  },
  {
   "cell_type": "markdown",
   "id": "0e067c2a",
   "metadata": {},
   "source": [
    "## Make Predictions"
   ]
  },
  {
   "cell_type": "code",
   "execution_count": 47,
   "id": "7faddd0c",
   "metadata": {},
   "outputs": [],
   "source": [
    "rf_preds_smote = rf_model_smote.predict(X_test_scaled_imputed)"
   ]
  },
  {
   "cell_type": "markdown",
   "id": "80f6fe39",
   "metadata": {},
   "source": [
    "## Submit your best prediction! You will be scored using recall"
   ]
  },
  {
   "cell_type": "code",
   "execution_count": 48,
   "id": "da1fe554",
   "metadata": {},
   "outputs": [],
   "source": [
    "predictions = pd.DataFrame({'id':prediction_id ,'predictions':rf_preds_smote})"
   ]
  },
  {
   "cell_type": "code",
   "execution_count": 49,
   "id": "e2b9425d",
   "metadata": {},
   "outputs": [],
   "source": [
    "predictions.to_csv('submission.csv')"
   ]
  },
  {
   "attachments": {},
   "cell_type": "markdown",
   "id": "5806c7a9",
   "metadata": {},
   "source": [
    "***send me your predictions***"
   ]
  },
  {
   "cell_type": "code",
   "execution_count": 50,
   "id": "f05c2aab",
   "metadata": {},
   "outputs": [
    {
     "name": "stdout",
     "output_type": "stream",
     "text": [
      "Success: {'score': 0.6}\n"
     ]
    }
   ],
   "source": [
    "import requests\n",
    "\n",
    "# Replace this with the path to your submission file\n",
    "submission_file = 'sample_submission.csv' \n",
    "\n",
    "url = 'https://gradingapp.herokuapp.com/submit'\n",
    "\n",
    "with open(submission_file, 'rb') as f:\n",
    "    response = requests.post(url, files={'file': f})\n",
    "\n",
    "if response.status_code == 200:\n",
    "    print(\"Success:\", response.json())\n",
    "else:\n",
    "    print(\"Error:\", response.status_code, response.text)"
   ]
  }
 ],
 "metadata": {
  "kernelspec": {
   "display_name": "Python 3 (ipykernel)",
   "language": "python",
   "name": "python3"
  },
  "language_info": {
   "codemirror_mode": {
    "name": "ipython",
    "version": 3
   },
   "file_extension": ".py",
   "mimetype": "text/x-python",
   "name": "python",
   "nbconvert_exporter": "python",
   "pygments_lexer": "ipython3",
   "version": "3.10.11"
  }
 },
 "nbformat": 4,
 "nbformat_minor": 5
}
